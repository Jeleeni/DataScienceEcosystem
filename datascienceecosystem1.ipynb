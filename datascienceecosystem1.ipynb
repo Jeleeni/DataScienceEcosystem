{
 "cells": [
  {
   "cell_type": "markdown",
   "id": "b1740624",
   "metadata": {},
   "source": [
    "# Data science tools and ecosystems\n",
    "\n",
    "In this notebook, Data Science Tools and Ecosystem are summarized."
   ]
  },
  {
   "cell_type": "markdown",
   "id": "0f32e844",
   "metadata": {},
   "source": [
    "**Objectives:**\n",
    "\n",
    "- List popular languages for Data Science.\n",
    "- Explain the importance of data visualization.\n",
    "- Demonstrate the use of Jupyter Notebook for interactive data analysis.\n",
    "- Discuss common libraries used in data science.\n",
    "- Describe the process of converting minutes to hours in Python.\n",
    "\n",
    "## Author\n",
    "Elena Gamarra"
   ]
  },
  {
   "cell_type": "markdown",
   "id": "b0eaa1d4",
   "metadata": {},
   "source": [
    "Some of the popular languages that Data Scientists use are:\n",
    "1. Python\n",
    "2. R\n",
    "3. SQL"
   ]
  },
  {
   "cell_type": "markdown",
   "id": "5535d482",
   "metadata": {},
   "source": [
    "Some of the commonly used libraries used by Data Scientists include:\n",
    "1. NumPy\n",
    "2. Pandas\n",
    "3. Scikit-Learn"
   ]
  },
  {
   "cell_type": "markdown",
   "id": "b6b4202d",
   "metadata": {},
   "source": [
    "| Data Science Tools |\n",
    "|-------------------| \n",
    "| Jupyter Notebook |\n",
    "| RStudio |\n",
    "| Visual Studio Code (VSCode) |"
   ]
  },
  {
   "cell_type": "markdown",
   "id": "be64e4fc",
   "metadata": {},
   "source": [
    "### Below are a few examples of evaluating arithmetic expressions in Python:\n",
    "\n",
    "result = 5 + 3\n",
    "print(result)\n",
    "\n",
    "result = 10 - 4\n",
    "print(result)\n",
    "\n",
    "result = 6 * 7\n",
    "print(result)"
   ]
  },
  {
   "cell_type": "code",
   "execution_count": 4,
   "id": "3fa04dd9",
   "metadata": {},
   "outputs": [
    {
     "name": "stdout",
     "output_type": "stream",
     "text": [
      "17\n"
     ]
    }
   ],
   "source": [
    "# This a simple arithmetic expression to mutiply then add integers\n",
    "\n",
    "result = (3 * 4) + 5\n",
    "print(result)"
   ]
  },
  {
   "cell_type": "code",
   "execution_count": 5,
   "id": "7deef872",
   "metadata": {},
   "outputs": [
    {
     "name": "stdout",
     "output_type": "stream",
     "text": [
      "3.3333333333333335\n"
     ]
    }
   ],
   "source": [
    "# This will convert 200 minutes to hours by dividing by 60\n",
    "minutes = 200\n",
    "hours = minutes / 60\n",
    "print(hours)"
   ]
  },
  {
   "cell_type": "code",
   "execution_count": null,
   "id": "04bbb20a",
   "metadata": {},
   "outputs": [],
   "source": []
  }
 ],
 "metadata": {
  "kernelspec": {
   "display_name": "Python 3 (ipykernel)",
   "language": "python",
   "name": "python3"
  },
  "language_info": {
   "codemirror_mode": {
    "name": "ipython",
    "version": 3
   },
   "file_extension": ".py",
   "mimetype": "text/x-python",
   "name": "python",
   "nbconvert_exporter": "python",
   "pygments_lexer": "ipython3",
   "version": "3.11.5"
  }
 },
 "nbformat": 4,
 "nbformat_minor": 5
}
